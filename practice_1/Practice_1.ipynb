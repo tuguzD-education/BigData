{
 "cells": [
  {
   "cell_type": "markdown",
   "metadata": {
    "pycharm": {
     "name": "#%% md\n"
    }
   },
   "source": [
    "# Практическая работа 1"
   ]
  },
  {
   "cell_type": "markdown",
   "metadata": {
    "pycharm": {
     "name": "#%% md\n"
    }
   },
   "source": [
    "Для выполнения заданий данной Практической работы, необходимо\n",
    "воспользоваться стандартным модулем `math`:"
   ]
  },
  {
   "cell_type": "code",
   "execution_count": 1,
   "metadata": {
    "pycharm": {
     "name": "#%%\n"
    }
   },
   "outputs": [],
   "source": [
    "import math"
   ]
  },
  {
   "cell_type": "markdown",
   "metadata": {
    "pycharm": {
     "name": "#%% md\n"
    }
   },
   "source": [
    "## Задание 1:\n",
    "\n",
    "Написать программу, которая вычисляет площадь фигуры, параметры которой подаются на вход.\n",
    "Фигуры, которые подаются на вход: треугольник, прямоугольник, круг.\n",
    "Результатом работы является словарь, где ключ – это название фигуры, а значение – это площадь."
   ]
  },
  {
   "cell_type": "markdown",
   "metadata": {
    "pycharm": {
     "name": "#%% md\n"
    }
   },
   "source": [
    "Для выполнения задания определим 2 функции:\n",
    "- `triangle_area_heron`, которая реализует алгоримт решения Задания 4\n",
    "(на входе — целые числа, на выходе — вещественное число, соответствующее площади),\n",
    "- и `calc_area`, которая реализует алгоритм решения Задания 1."
   ]
  },
  {
   "cell_type": "code",
   "execution_count": 2,
   "metadata": {
    "pycharm": {
     "name": "#%%\n"
    }
   },
   "outputs": [],
   "source": [
    "def triangle_area_heron(a: float, b: float, c: float) -> float:\n",
    "    p = (a + b + c) / 2\n",
    "    p = p * (p - a) * (p - b) * (p - c)\n",
    "    if p < 0:\n",
    "        raise ValueError\n",
    "    return math.sqrt(p)"
   ]
  },
  {
   "cell_type": "code",
   "execution_count": 3,
   "metadata": {
    "pycharm": {
     "name": "#%%\n"
    }
   },
   "outputs": [],
   "source": [
    "def calc_area(a: float, b: float, c: float) -> dict:\n",
    "    if a < 0 or b < 0 or c < 0:\n",
    "        raise ValueError\n",
    "    return {\n",
    "        'circle': math.pi * (a ** 2),\n",
    "        'rectangle': a * b,\n",
    "        'triangle': triangle_area_heron(a, b, c),\n",
    "    }"
   ]
  },
  {
   "cell_type": "markdown",
   "metadata": {
    "pycharm": {
     "name": "#%% md\n"
    }
   },
   "source": [
    "Напишем решение задания, используя 2-ю функцию:"
   ]
  },
  {
   "cell_type": "code",
   "execution_count": 53,
   "metadata": {
    "pycharm": {
     "name": "#%%\n"
    }
   },
   "outputs": [
    {
     "name": "stdout",
     "output_type": "stream",
     "text": [
      "Введите 3 числа, разделив их пробелом\n",
      "6 8 12\n",
      "Площадь круга: 113.09733552923255\n",
      "Площадь прямоугольника: 48.0\n",
      "Площадь треугольника: 21.330729007701542\n"
     ]
    }
   ],
   "source": [
    "print('Введите 3 числа, разделив их пробелом')\n",
    "try:\n",
    "    a, b, c = [float(n) for n in input().split()]\n",
    "    result = calc_area(a, b, c)\n",
    "    print(\n",
    "        f\"Площадь круга: {result['circle']}\",\n",
    "        f\"Площадь прямоугольника: {result['rectangle']}\",\n",
    "        f\"Площадь треугольника: {result['triangle']}\",\n",
    "        sep='\\n')\n",
    "except ValueError:\n",
    "    print('Данные введены неверно!')"
   ]
  },
  {
   "cell_type": "markdown",
   "metadata": {
    "pycharm": {
     "name": "#%% md\n"
    }
   },
   "source": [
    "## Задание 2\n",
    "\n",
    "Написать программу, которая на вход получает два числа и операцию, которую к ним нужно применить.\n",
    "Должны быть реализованы операции: +, -, /, //, abs – модуль, pow или ** – возведение в степень.\n",
    "Результатом работы программы является одно число."
   ]
  },
  {
   "cell_type": "markdown",
   "metadata": {
    "pycharm": {
     "name": "#%% md\n"
    }
   },
   "source": [
    "Для выполнения задачи определим функцию с алгоритмом для решения Задания 2:"
   ]
  },
  {
   "cell_type": "code",
   "execution_count": 6,
   "metadata": {
    "pycharm": {
     "name": "#%%\n"
    }
   },
   "outputs": [],
   "source": [
    "def evaluate(a: float, b: float, operation: str) -> float:\n",
    "    match operation:\n",
    "        case 'abs':\n",
    "            return abs(a - b)\n",
    "        case 'pow':\n",
    "            return a ** b\n",
    "        case _:\n",
    "            return eval(f'{a} {operation} {b}')"
   ]
  },
  {
   "cell_type": "markdown",
   "metadata": {
    "pycharm": {
     "name": "#%% md\n"
    }
   },
   "source": [
    "Также напишем функцию, проверяющую ввод на корректность:"
   ]
  },
  {
   "cell_type": "code",
   "execution_count": 7,
   "metadata": {
    "pycharm": {
     "name": "#%%\n"
    }
   },
   "outputs": [],
   "source": [
    "def prepare(input: str):\n",
    "    a, b, operation = input.split()\n",
    "\n",
    "    a = float(a)\n",
    "    if b.isdigit() and not operation.isdigit():\n",
    "        b, operation = float(b), str(operation)\n",
    "    elif operation.isdigit() and not b.isdigit():\n",
    "        b, operation = float(operation), str(b)\n",
    "\n",
    "    return a, b, operation"
   ]
  },
  {
   "cell_type": "markdown",
   "metadata": {
    "pycharm": {
     "name": "#%% md\n"
    }
   },
   "source": [
    "Наконец напишем решение задания, используя функции, определенные выше:"
   ]
  },
  {
   "cell_type": "code",
   "execution_count": 9,
   "metadata": {
    "pycharm": {
     "name": "#%%\n"
    }
   },
   "outputs": [
    {
     "name": "stdout",
     "output_type": "stream",
     "text": [
      "Введите 2 числа и операцию, которую необходимо выполнить с ними, разделив их пробелом\n",
      "0 abs 10\n",
      "Результат выполнения операции: 10.0\n"
     ]
    }
   ],
   "source": [
    "print('Введите 2 числа и операцию, которую необходимо выполнить с ними, разделив их пробелом')\n",
    "try:\n",
    "    a, b, operation = prepare(input())\n",
    "    print(f'Результат выполнения операции: {evaluate(a, b, operation)}')\n",
    "except (ValueError, SyntaxError):\n",
    "    print('Данные введены неверно!')"
   ]
  },
  {
   "cell_type": "markdown",
   "metadata": {
    "pycharm": {
     "name": "#%% md\n"
    }
   },
   "source": [
    "## Задание 3\n",
    "\n",
    "Написать программу, вычисляющую площадь треугольника\n",
    "по переданным длинам трёх его сторон по формуле Герона:\n",
    "\n",
    "√p(p − a)(p − b)(p − c),\n",
    "\n",
    "где p = (a + b + c) / 2."
   ]
  },
  {
   "cell_type": "markdown",
   "metadata": {
    "pycharm": {
     "name": "#%% md\n"
    }
   },
   "source": [
    "Функция с алгоритмом решения задания уже была написана в Задании 1, поэтому сразу напишем решение:"
   ]
  },
  {
   "cell_type": "code",
   "execution_count": 5,
   "metadata": {
    "pycharm": {
     "name": "#%%\n"
    }
   },
   "outputs": [
    {
     "name": "stdout",
     "output_type": "stream",
     "text": [
      "Введите 3 стороны треугольника, разделив их пробелом\n",
      "3 4 5\n",
      "Площадь треугольника по формуле Герона: 6.0\n"
     ]
    }
   ],
   "source": [
    "print('Введите 3 стороны треугольника, разделив их пробелом')\n",
    "try:\n",
    "    a, b, c = [int(n) for n in input().split()]\n",
    "    print(f'Площадь треугольника по формуле Герона: {triangle_area_heron(a, b, c)}')\n",
    "except ValueError:\n",
    "    print('Данные введены неверно!')"
   ]
  }
 ],
 "metadata": {
  "kernelspec": {
   "display_name": "Python 3 (ipykernel)",
   "language": "python",
   "name": "python3"
  },
  "language_info": {
   "codemirror_mode": {
    "name": "ipython",
    "version": 3
   },
   "file_extension": ".py",
   "mimetype": "text/x-python",
   "name": "python",
   "nbconvert_exporter": "python",
   "pygments_lexer": "ipython3",
   "version": "3.10.7"
  }
 },
 "nbformat": 4,
 "nbformat_minor": 1
}