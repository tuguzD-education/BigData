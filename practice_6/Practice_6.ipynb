{
 "cells": [
  {
   "cell_type": "markdown",
   "source": [
    "# Практическая работа 6"
   ],
   "metadata": {
    "collapsed": false
   }
  },
  {
   "cell_type": "code",
   "execution_count": 1,
   "metadata": {
    "collapsed": true
   },
   "outputs": [],
   "source": [
    "import warnings\n",
    "\n",
    "warnings.filterwarnings(\"ignore\")"
   ]
  },
  {
   "cell_type": "code",
   "execution_count": 2,
   "outputs": [],
   "source": [
    "import pandas as pd"
   ],
   "metadata": {
    "collapsed": false
   }
  },
  {
   "cell_type": "markdown",
   "source": [
    "## Задание 1"
   ],
   "metadata": {
    "collapsed": false
   }
  },
  {
   "cell_type": "code",
   "execution_count": 3,
   "outputs": [
    {
     "name": "stdout",
     "output_type": "stream",
     "text": [
      "Dataframe dimensions: (61904, 12)\n"
     ]
    },
    {
     "data": {
      "text/plain": "      dateRep  day  month  year  cases  deaths countriesAndTerritories geoId  \\\n0  14/12/2020   14     12  2020    746       6             Afghanistan    AF   \n1  13/12/2020   13     12  2020    298       9             Afghanistan    AF   \n2  12/12/2020   12     12  2020    113      11             Afghanistan    AF   \n3  12/12/2020   12     12  2020    113      11             Afghanistan    AF   \n4  11/12/2020   11     12  2020     63      10             Afghanistan    AF   \n\n  countryterritoryCode  popData2019 continentExp  \\\n0                  AFG   38041757.0         Asia   \n1                  AFG   38041757.0         Asia   \n2                  AFG   38041757.0         Asia   \n3                  AFG   38041757.0         Asia   \n4                  AFG   38041757.0         Asia   \n\n   Cumulative_number_for_14_days_of_COVID-19_cases_per_100000  \n0                                           9.013779           \n1                                           7.052776           \n2                                           6.868768           \n3                                           6.868768           \n4                                           7.134266           ",
      "text/html": "<div>\n<style scoped>\n    .dataframe tbody tr th:only-of-type {\n        vertical-align: middle;\n    }\n\n    .dataframe tbody tr th {\n        vertical-align: top;\n    }\n\n    .dataframe thead th {\n        text-align: right;\n    }\n</style>\n<table border=\"1\" class=\"dataframe\">\n  <thead>\n    <tr style=\"text-align: right;\">\n      <th></th>\n      <th>dateRep</th>\n      <th>day</th>\n      <th>month</th>\n      <th>year</th>\n      <th>cases</th>\n      <th>deaths</th>\n      <th>countriesAndTerritories</th>\n      <th>geoId</th>\n      <th>countryterritoryCode</th>\n      <th>popData2019</th>\n      <th>continentExp</th>\n      <th>Cumulative_number_for_14_days_of_COVID-19_cases_per_100000</th>\n    </tr>\n  </thead>\n  <tbody>\n    <tr>\n      <th>0</th>\n      <td>14/12/2020</td>\n      <td>14</td>\n      <td>12</td>\n      <td>2020</td>\n      <td>746</td>\n      <td>6</td>\n      <td>Afghanistan</td>\n      <td>AF</td>\n      <td>AFG</td>\n      <td>38041757.0</td>\n      <td>Asia</td>\n      <td>9.013779</td>\n    </tr>\n    <tr>\n      <th>1</th>\n      <td>13/12/2020</td>\n      <td>13</td>\n      <td>12</td>\n      <td>2020</td>\n      <td>298</td>\n      <td>9</td>\n      <td>Afghanistan</td>\n      <td>AF</td>\n      <td>AFG</td>\n      <td>38041757.0</td>\n      <td>Asia</td>\n      <td>7.052776</td>\n    </tr>\n    <tr>\n      <th>2</th>\n      <td>12/12/2020</td>\n      <td>12</td>\n      <td>12</td>\n      <td>2020</td>\n      <td>113</td>\n      <td>11</td>\n      <td>Afghanistan</td>\n      <td>AF</td>\n      <td>AFG</td>\n      <td>38041757.0</td>\n      <td>Asia</td>\n      <td>6.868768</td>\n    </tr>\n    <tr>\n      <th>3</th>\n      <td>12/12/2020</td>\n      <td>12</td>\n      <td>12</td>\n      <td>2020</td>\n      <td>113</td>\n      <td>11</td>\n      <td>Afghanistan</td>\n      <td>AF</td>\n      <td>AFG</td>\n      <td>38041757.0</td>\n      <td>Asia</td>\n      <td>6.868768</td>\n    </tr>\n    <tr>\n      <th>4</th>\n      <td>11/12/2020</td>\n      <td>11</td>\n      <td>12</td>\n      <td>2020</td>\n      <td>63</td>\n      <td>10</td>\n      <td>Afghanistan</td>\n      <td>AF</td>\n      <td>AFG</td>\n      <td>38041757.0</td>\n      <td>Asia</td>\n      <td>7.134266</td>\n    </tr>\n  </tbody>\n</table>\n</div>"
     },
     "execution_count": 3,
     "metadata": {},
     "output_type": "execute_result"
    }
   ],
   "source": [
    "ecd = pd.read_csv('ECDCCases.csv')\n",
    "\n",
    "print(f'Dataframe dimensions: {ecd.shape}')\n",
    "ecd.head()"
   ],
   "metadata": {
    "collapsed": false
   }
  },
  {
   "cell_type": "markdown",
   "source": [
    "## Задание 2"
   ],
   "metadata": {
    "collapsed": false
   }
  },
  {
   "cell_type": "code",
   "execution_count": 4,
   "outputs": [
    {
     "data": {
      "text/plain": "dateRep                                                       0.000000\nday                                                           0.000000\nmonth                                                         0.000000\nyear                                                          0.000000\ncases                                                         0.000000\ndeaths                                                        0.000000\ncountriesAndTerritories                                       0.000000\ngeoId                                                         0.444236\ncountryterritoryCode                                          0.198695\npopData2019                                                   0.198695\ncontinentExp                                                  0.000000\nCumulative_number_for_14_days_of_COVID-19_cases_per_100000    4.650750\ndtype: float64"
     },
     "execution_count": 4,
     "metadata": {},
     "output_type": "execute_result"
    }
   ],
   "source": [
    "ecd.isna().sum() / len(ecd.index) * 100"
   ],
   "metadata": {
    "collapsed": false
   }
  },
  {
   "cell_type": "code",
   "execution_count": 5,
   "outputs": [],
   "source": [
    "ecd.drop(['geoId', 'Cumulative_number_for_14_days_of_COVID-19_cases_per_100000'], axis = 1, inplace=True)"
   ],
   "metadata": {
    "collapsed": false
   }
  },
  {
   "cell_type": "code",
   "execution_count": 6,
   "outputs": [],
   "source": [
    "ecd['countryterritoryCode'].fillna('other', inplace=True)\n",
    "ecd['popData2019'].fillna(ecd['popData2019'].median(), inplace=True)"
   ],
   "metadata": {
    "collapsed": false
   }
  },
  {
   "cell_type": "code",
   "execution_count": 7,
   "outputs": [
    {
     "data": {
      "text/plain": "dateRep                    0.0\nday                        0.0\nmonth                      0.0\nyear                       0.0\ncases                      0.0\ndeaths                     0.0\ncountriesAndTerritories    0.0\ncountryterritoryCode       0.0\npopData2019                0.0\ncontinentExp               0.0\ndtype: float64"
     },
     "execution_count": 7,
     "metadata": {},
     "output_type": "execute_result"
    }
   ],
   "source": [
    "ecd.isna().sum() / len(ecd.index) * 100"
   ],
   "metadata": {
    "collapsed": false
   }
  },
  {
   "cell_type": "markdown",
   "source": [
    "## Задание 3"
   ],
   "metadata": {
    "collapsed": false
   }
  },
  {
   "cell_type": "code",
   "execution_count": 8,
   "outputs": [
    {
     "data": {
      "text/plain": "                day         month          year          cases        deaths  \\\ncount  61904.000000  61904.000000  61904.000000   61904.000000  61904.000000   \nmean      15.629232      7.067104   2019.998918    1155.079026     26.053987   \nstd        8.841624      2.954816      0.032881    6779.010824    131.222948   \nmin        1.000000      1.000000   2019.000000   -8261.000000  -1918.000000   \n25%        8.000000      5.000000   2020.000000       0.000000      0.000000   \n50%       15.000000      7.000000   2020.000000      15.000000      0.000000   \n75%       23.000000     10.000000   2020.000000     273.000000      4.000000   \nmax       31.000000     12.000000   2020.000000  234633.000000   4928.000000   \n\n        popData2019  \ncount  6.190400e+04  \nmean   4.091909e+07  \nstd    1.529798e+08  \nmin    8.150000e+02  \n25%    1.324820e+06  \n50%    7.169456e+06  \n75%    2.851583e+07  \nmax    1.433784e+09  ",
      "text/html": "<div>\n<style scoped>\n    .dataframe tbody tr th:only-of-type {\n        vertical-align: middle;\n    }\n\n    .dataframe tbody tr th {\n        vertical-align: top;\n    }\n\n    .dataframe thead th {\n        text-align: right;\n    }\n</style>\n<table border=\"1\" class=\"dataframe\">\n  <thead>\n    <tr style=\"text-align: right;\">\n      <th></th>\n      <th>day</th>\n      <th>month</th>\n      <th>year</th>\n      <th>cases</th>\n      <th>deaths</th>\n      <th>popData2019</th>\n    </tr>\n  </thead>\n  <tbody>\n    <tr>\n      <th>count</th>\n      <td>61904.000000</td>\n      <td>61904.000000</td>\n      <td>61904.000000</td>\n      <td>61904.000000</td>\n      <td>61904.000000</td>\n      <td>6.190400e+04</td>\n    </tr>\n    <tr>\n      <th>mean</th>\n      <td>15.629232</td>\n      <td>7.067104</td>\n      <td>2019.998918</td>\n      <td>1155.079026</td>\n      <td>26.053987</td>\n      <td>4.091909e+07</td>\n    </tr>\n    <tr>\n      <th>std</th>\n      <td>8.841624</td>\n      <td>2.954816</td>\n      <td>0.032881</td>\n      <td>6779.010824</td>\n      <td>131.222948</td>\n      <td>1.529798e+08</td>\n    </tr>\n    <tr>\n      <th>min</th>\n      <td>1.000000</td>\n      <td>1.000000</td>\n      <td>2019.000000</td>\n      <td>-8261.000000</td>\n      <td>-1918.000000</td>\n      <td>8.150000e+02</td>\n    </tr>\n    <tr>\n      <th>25%</th>\n      <td>8.000000</td>\n      <td>5.000000</td>\n      <td>2020.000000</td>\n      <td>0.000000</td>\n      <td>0.000000</td>\n      <td>1.324820e+06</td>\n    </tr>\n    <tr>\n      <th>50%</th>\n      <td>15.000000</td>\n      <td>7.000000</td>\n      <td>2020.000000</td>\n      <td>15.000000</td>\n      <td>0.000000</td>\n      <td>7.169456e+06</td>\n    </tr>\n    <tr>\n      <th>75%</th>\n      <td>23.000000</td>\n      <td>10.000000</td>\n      <td>2020.000000</td>\n      <td>273.000000</td>\n      <td>4.000000</td>\n      <td>2.851583e+07</td>\n    </tr>\n    <tr>\n      <th>max</th>\n      <td>31.000000</td>\n      <td>12.000000</td>\n      <td>2020.000000</td>\n      <td>234633.000000</td>\n      <td>4928.000000</td>\n      <td>1.433784e+09</td>\n    </tr>\n  </tbody>\n</table>\n</div>"
     },
     "execution_count": 8,
     "metadata": {},
     "output_type": "execute_result"
    }
   ],
   "source": [
    "ecd.describe()"
   ],
   "metadata": {
    "collapsed": false
   }
  },
  {
   "cell_type": "code",
   "execution_count": 18,
   "outputs": [
    {
     "data": {
      "text/plain": "2118                    Argentina\n16908                     Ecuador\n37038                      Mexico\n44888                        Peru\n59007    United_States_of_America\nName: countriesAndTerritories, dtype: object"
     },
     "execution_count": 18,
     "metadata": {},
     "output_type": "execute_result"
    }
   ],
   "source": [
    "countries = ecd[ecd.deaths > 3000].countriesAndTerritories\n",
    "\n",
    "countries.drop_duplicates()"
   ],
   "metadata": {
    "collapsed": false
   }
  },
  {
   "cell_type": "code",
   "execution_count": 19,
   "outputs": [
    {
     "data": {
      "text/plain": "(11,)"
     },
     "execution_count": 19,
     "metadata": {},
     "output_type": "execute_result"
    }
   ],
   "source": [
    "countries.shape"
   ],
   "metadata": {
    "collapsed": false
   }
  },
  {
   "cell_type": "markdown",
   "source": [
    "## Задание 4"
   ],
   "metadata": {
    "collapsed": false
   }
  },
  {
   "cell_type": "code",
   "execution_count": 20,
   "outputs": [
    {
     "data": {
      "text/plain": "          dateRep  day  month  year  cases  deaths countriesAndTerritories  \\\n2      12/12/2020   12     12  2020    113      11             Afghanistan   \n3      12/12/2020   12     12  2020    113      11             Afghanistan   \n217    12/05/2020   12      5  2020    285       2             Afghanistan   \n218    12/05/2020   12      5  2020    285       2             Afghanistan   \n48009  29/05/2020   29      5  2020      0       0             Saint_Lucia   \n48010  29/05/2020   29      5  2020      0       0             Saint_Lucia   \n48072  28/03/2020   28      3  2020      0       0             Saint_Lucia   \n48073  28/03/2020   28      3  2020      0       0             Saint_Lucia   \n\n      countryterritoryCode  popData2019 continentExp  \n2                      AFG   38041757.0         Asia  \n3                      AFG   38041757.0         Asia  \n217                    AFG   38041757.0         Asia  \n218                    AFG   38041757.0         Asia  \n48009                  LCA     182795.0      America  \n48010                  LCA     182795.0      America  \n48072                  LCA     182795.0      America  \n48073                  LCA     182795.0      America  ",
      "text/html": "<div>\n<style scoped>\n    .dataframe tbody tr th:only-of-type {\n        vertical-align: middle;\n    }\n\n    .dataframe tbody tr th {\n        vertical-align: top;\n    }\n\n    .dataframe thead th {\n        text-align: right;\n    }\n</style>\n<table border=\"1\" class=\"dataframe\">\n  <thead>\n    <tr style=\"text-align: right;\">\n      <th></th>\n      <th>dateRep</th>\n      <th>day</th>\n      <th>month</th>\n      <th>year</th>\n      <th>cases</th>\n      <th>deaths</th>\n      <th>countriesAndTerritories</th>\n      <th>countryterritoryCode</th>\n      <th>popData2019</th>\n      <th>continentExp</th>\n    </tr>\n  </thead>\n  <tbody>\n    <tr>\n      <th>2</th>\n      <td>12/12/2020</td>\n      <td>12</td>\n      <td>12</td>\n      <td>2020</td>\n      <td>113</td>\n      <td>11</td>\n      <td>Afghanistan</td>\n      <td>AFG</td>\n      <td>38041757.0</td>\n      <td>Asia</td>\n    </tr>\n    <tr>\n      <th>3</th>\n      <td>12/12/2020</td>\n      <td>12</td>\n      <td>12</td>\n      <td>2020</td>\n      <td>113</td>\n      <td>11</td>\n      <td>Afghanistan</td>\n      <td>AFG</td>\n      <td>38041757.0</td>\n      <td>Asia</td>\n    </tr>\n    <tr>\n      <th>217</th>\n      <td>12/05/2020</td>\n      <td>12</td>\n      <td>5</td>\n      <td>2020</td>\n      <td>285</td>\n      <td>2</td>\n      <td>Afghanistan</td>\n      <td>AFG</td>\n      <td>38041757.0</td>\n      <td>Asia</td>\n    </tr>\n    <tr>\n      <th>218</th>\n      <td>12/05/2020</td>\n      <td>12</td>\n      <td>5</td>\n      <td>2020</td>\n      <td>285</td>\n      <td>2</td>\n      <td>Afghanistan</td>\n      <td>AFG</td>\n      <td>38041757.0</td>\n      <td>Asia</td>\n    </tr>\n    <tr>\n      <th>48009</th>\n      <td>29/05/2020</td>\n      <td>29</td>\n      <td>5</td>\n      <td>2020</td>\n      <td>0</td>\n      <td>0</td>\n      <td>Saint_Lucia</td>\n      <td>LCA</td>\n      <td>182795.0</td>\n      <td>America</td>\n    </tr>\n    <tr>\n      <th>48010</th>\n      <td>29/05/2020</td>\n      <td>29</td>\n      <td>5</td>\n      <td>2020</td>\n      <td>0</td>\n      <td>0</td>\n      <td>Saint_Lucia</td>\n      <td>LCA</td>\n      <td>182795.0</td>\n      <td>America</td>\n    </tr>\n    <tr>\n      <th>48072</th>\n      <td>28/03/2020</td>\n      <td>28</td>\n      <td>3</td>\n      <td>2020</td>\n      <td>0</td>\n      <td>0</td>\n      <td>Saint_Lucia</td>\n      <td>LCA</td>\n      <td>182795.0</td>\n      <td>America</td>\n    </tr>\n    <tr>\n      <th>48073</th>\n      <td>28/03/2020</td>\n      <td>28</td>\n      <td>3</td>\n      <td>2020</td>\n      <td>0</td>\n      <td>0</td>\n      <td>Saint_Lucia</td>\n      <td>LCA</td>\n      <td>182795.0</td>\n      <td>America</td>\n    </tr>\n  </tbody>\n</table>\n</div>"
     },
     "execution_count": 20,
     "metadata": {},
     "output_type": "execute_result"
    }
   ],
   "source": [
    "ecd[ecd.duplicated(keep=False)]"
   ],
   "metadata": {
    "collapsed": false
   }
  },
  {
   "cell_type": "code",
   "execution_count": 21,
   "outputs": [],
   "source": [
    "ecd.drop_duplicates(keep='first', inplace=True)"
   ],
   "metadata": {
    "collapsed": false
   }
  },
  {
   "cell_type": "code",
   "execution_count": 22,
   "outputs": [
    {
     "data": {
      "text/plain": "0"
     },
     "execution_count": 22,
     "metadata": {},
     "output_type": "execute_result"
    }
   ],
   "source": [
    "ecd.duplicated().sum()"
   ],
   "metadata": {
    "collapsed": false
   }
  },
  {
   "cell_type": "markdown",
   "source": [
    "## Задание 5"
   ],
   "metadata": {
    "collapsed": false
   }
  },
  {
   "cell_type": "code",
   "execution_count": 23,
   "outputs": [
    {
     "name": "stdout",
     "output_type": "stream",
     "text": [
      "Dataframe dimensions: (650, 2)\n"
     ]
    },
    {
     "data": {
      "text/plain": "      bmi     region\n0  22.705  northwest\n1  28.880  northwest\n2  27.740  northwest\n3  25.840  northwest\n4  28.025  northwest",
      "text/html": "<div>\n<style scoped>\n    .dataframe tbody tr th:only-of-type {\n        vertical-align: middle;\n    }\n\n    .dataframe tbody tr th {\n        vertical-align: top;\n    }\n\n    .dataframe thead th {\n        text-align: right;\n    }\n</style>\n<table border=\"1\" class=\"dataframe\">\n  <thead>\n    <tr style=\"text-align: right;\">\n      <th></th>\n      <th>bmi</th>\n      <th>region</th>\n    </tr>\n  </thead>\n  <tbody>\n    <tr>\n      <th>0</th>\n      <td>22.705</td>\n      <td>northwest</td>\n    </tr>\n    <tr>\n      <th>1</th>\n      <td>28.880</td>\n      <td>northwest</td>\n    </tr>\n    <tr>\n      <th>2</th>\n      <td>27.740</td>\n      <td>northwest</td>\n    </tr>\n    <tr>\n      <th>3</th>\n      <td>25.840</td>\n      <td>northwest</td>\n    </tr>\n    <tr>\n      <th>4</th>\n      <td>28.025</td>\n      <td>northwest</td>\n    </tr>\n  </tbody>\n</table>\n</div>"
     },
     "execution_count": 23,
     "metadata": {},
     "output_type": "execute_result"
    }
   ],
   "source": [
    "bmi = pd.read_csv('bmi.csv')\n",
    "\n",
    "print(f'Dataframe dimensions: {bmi.shape}')\n",
    "bmi.head()"
   ],
   "metadata": {
    "collapsed": false
   }
  },
  {
   "cell_type": "code",
   "execution_count": 24,
   "outputs": [],
   "source": [
    "import scipy.stats as sts"
   ],
   "metadata": {
    "collapsed": false
   }
  },
  {
   "cell_type": "code",
   "execution_count": 115,
   "outputs": [],
   "source": [
    "sample_names = ('northwest', 'southwest', )\n",
    "\n",
    "samples = dict(zip(sample_names,\n",
    "    [bmi[bmi.region == name].bmi for name in sample_names]\n",
    "))"
   ],
   "metadata": {
    "collapsed": false
   }
  },
  {
   "cell_type": "code",
   "execution_count": 112,
   "outputs": [
    {
     "name": "stdout",
     "output_type": "stream",
     "text": [
      "Результаты проверки выборки на нормальность (по критерию Шопиро-Уилка) для выборки `northwest`: \n",
      "  - ShapiroResult(statistic=0.9954646825790405, pvalue=0.4655335247516632)\n",
      "Поскольку pvalue=0.4655335247516632 больше 0.05, то выборка неплохо согласуется с нормальным распределением.\n",
      "\n",
      "Результаты проверки выборки на нормальность (по критерию Шопиро-Уилка) для выборки `southwest`: \n",
      "  - ShapiroResult(statistic=0.9949268698692322, pvalue=0.3629520535469055)\n",
      "Поскольку pvalue=0.3629520535469055 больше 0.05, то выборка неплохо согласуется с нормальным распределением.\n",
      "\n"
     ]
    }
   ],
   "source": [
    "for name, sample in samples.items():\n",
    "    shapiro = sts.shapiro(sample)\n",
    "    chk = shapiro.pvalue < 0.05\n",
    "\n",
    "    print(\n",
    "        f'Результаты проверки выборки на нормальность (по критерию Шопиро-Уилка) для выборки `{name}`: ',\n",
    "        f'  - {shapiro}',\n",
    "        f'Поскольку pvalue={shapiro.pvalue} {\"меньше\" if chk else \"больше\"} 0.05, то '\n",
    "        f'выборка {\"НЕ ИМЕЕТ нормального распределения\" if chk else \"неплохо согласуется с нормальным распределением\"}.',\n",
    "    sep='\\n')\n",
    "    print()\n"
   ],
   "metadata": {
    "collapsed": false
   }
  },
  {
   "cell_type": "code",
   "execution_count": 113,
   "outputs": [
    {
     "name": "stdout",
     "output_type": "stream",
     "text": [
      "Нулевая гипотеза предполагает, что рассматриваемые выборки получены из генеральных совокупностей, обладающих одинаковыми дисперсиями.\n",
      "\n",
      "Результаты проверки гомогенности дисперсии (по критерию Бартлетта) для двух выборок ['northwest', 'southwest']: \n",
      "  - BartlettResult(statistic=3.4000745256459286, pvalue=0.06519347353581818)\n",
      "\n",
      "Поскольку pvalue=0.06519347353581818 больше 0.05, то нулевая гипотеза НЕ отвергается.\n"
     ]
    }
   ],
   "source": [
    "bartlett = sts.bartlett(*samples.values())\n",
    "chk = bartlett.pvalue < 0.05\n",
    "\n",
    "print(\n",
    "    'Нулевая гипотеза предполагает, что рассматриваемые выборки получены из генеральных совокупностей, обладающих одинаковыми дисперсиями.\\n',\n",
    "    f'Результаты проверки гомогенности дисперсии (по критерию Бартлетта) для двух выборок {[_ for _ in samples.keys()]}: ',\n",
    "    f'  - {bartlett}\\n',\n",
    "    f'Поскольку pvalue={bartlett.pvalue} {\"меньше\" if chk else \"больше\"} 0.05, то '\n",
    "    f'нулевая гипотеза {\"отвергается, принимается `альтернативная` гипотеза\" if chk else \"НЕ отвергается\"}.',\n",
    "sep='\\n')\n"
   ],
   "metadata": {
    "collapsed": false
   }
  },
  {
   "cell_type": "code",
   "execution_count": 114,
   "outputs": [
    {
     "name": "stdout",
     "output_type": "stream",
     "text": [
      "Нулевая гипотеза — исследуемые выборки принадлежат к одной генеральной совокупности.\n",
      "Альтернативная гипотеза — исследуемые выборки принадлежат к разным генеральным совокупностям.\n",
      "\n",
      "Результаты использования t-критерия Стьюдента для сравнения средних значений двух выборок ['northwest', 'southwest']: \n",
      "  - Ttest_indResult(statistic=-3.2844171500398582, pvalue=0.001076958496307695)\n",
      "\n",
      "Поскольку pvalue=0.001076958496307695 меньше 0.05, то нулевая гипотеза отвергается, принимается `альтернативная` гипотеза.\n"
     ]
    }
   ],
   "source": [
    "t_test_ind = sts.ttest_ind(*samples.values())\n",
    "chk = t_test_ind.pvalue < 0.05\n",
    "\n",
    "print(\n",
    "    'Нулевая гипотеза — исследуемые выборки принадлежат к одной генеральной совокупности.',\n",
    "    'Альтернативная гипотеза — исследуемые выборки принадлежат к разным генеральным совокупностям.\\n',\n",
    "    f'Результаты использования t-критерия Стьюдента для сравнения средних значений двух выборок {[_ for _ in samples.keys()]}: ',\n",
    "    f'  - {t_test_ind}\\n',\n",
    "    f'Поскольку pvalue={t_test_ind.pvalue} {\"меньше\" if chk else \"больше\"} 0.05, то '\n",
    "    f'нулевая гипотеза {\"отвергается, принимается `альтернативная` гипотеза\" if chk else \"НЕ отвергается\"}.',\n",
    "sep='\\n')\n"
   ],
   "metadata": {
    "collapsed": false
   }
  },
  {
   "cell_type": "markdown",
   "source": [
    "## Задание 6"
   ],
   "metadata": {
    "collapsed": false
   }
  },
  {
   "cell_type": "code",
   "execution_count": 118,
   "outputs": [
    {
     "data": {
      "text/plain": "   observed  expected\n1        97       100\n2        98       100\n3       109       100\n4        95       100\n5        97       100\n6       104       100",
      "text/html": "<div>\n<style scoped>\n    .dataframe tbody tr th:only-of-type {\n        vertical-align: middle;\n    }\n\n    .dataframe tbody tr th {\n        vertical-align: top;\n    }\n\n    .dataframe thead th {\n        text-align: right;\n    }\n</style>\n<table border=\"1\" class=\"dataframe\">\n  <thead>\n    <tr style=\"text-align: right;\">\n      <th></th>\n      <th>observed</th>\n      <th>expected</th>\n    </tr>\n  </thead>\n  <tbody>\n    <tr>\n      <th>1</th>\n      <td>97</td>\n      <td>100</td>\n    </tr>\n    <tr>\n      <th>2</th>\n      <td>98</td>\n      <td>100</td>\n    </tr>\n    <tr>\n      <th>3</th>\n      <td>109</td>\n      <td>100</td>\n    </tr>\n    <tr>\n      <th>4</th>\n      <td>95</td>\n      <td>100</td>\n    </tr>\n    <tr>\n      <th>5</th>\n      <td>97</td>\n      <td>100</td>\n    </tr>\n    <tr>\n      <th>6</th>\n      <td>104</td>\n      <td>100</td>\n    </tr>\n  </tbody>\n</table>\n</div>"
     },
     "execution_count": 118,
     "metadata": {},
     "output_type": "execute_result"
    }
   ],
   "source": [
    "throws = pd.DataFrame(\n",
    "    data=dict(\n",
    "        observed=[97, 98, 109, 95, 97, 104],\n",
    "        expected=[100] * 6),\n",
    "    index=[1, 2, 3, 4, 5, 6],\n",
    ")\n",
    "\n",
    "throws"
   ],
   "metadata": {
    "collapsed": false
   }
  },
  {
   "cell_type": "code",
   "execution_count": 124,
   "outputs": [
    {
     "name": "stdout",
     "output_type": "stream",
     "text": [
      "Нулевая гипотеза предполагает, что полученное распределение является равномерным.\n",
      "\n",
      "Результаты проверки распределения на равномерность с помощью критерия Хи-квадрат: \n",
      "  - Power_divergenceResult(statistic=1.44, pvalue=0.9198882077437889)\n",
      "\n",
      "Поскольку pvalue=0.9198882077437889 больше 0.05, то нулевая гипотеза НЕ отвергается.\n"
     ]
    }
   ],
   "source": [
    "chisquare = sts.chisquare(throws.observed, throws.expected)\n",
    "chk = chisquare.pvalue < 0.05\n",
    "\n",
    "print(\n",
    "    'Нулевая гипотеза предполагает, что полученное распределение является равномерным.\\n',\n",
    "    f'Результаты проверки распределения на равномерность с помощью критерия Хи-квадрат: ',\n",
    "    f'  - {chisquare}\\n',\n",
    "    f'Поскольку pvalue={chisquare.pvalue} {\"меньше\" if chk else \"больше\"} 0.05, то '\n",
    "    f'нулевая гипотеза {\"отвергается, принимается `альтернативная` гипотеза\" if chk else \"НЕ отвергается\"}.',\n",
    "sep='\\n')\n"
   ],
   "metadata": {
    "collapsed": false
   }
  },
  {
   "cell_type": "markdown",
   "source": [
    "## Задание 7"
   ],
   "metadata": {
    "collapsed": false
   }
  },
  {
   "cell_type": "code",
   "execution_count": 126,
   "outputs": [
    {
     "data": {
      "text/plain": "                      Женат  Гражданский брак  Не состоит в отношениях\nПолный рабочий день      89                80                       35\nЧастичная занятость      17                22                       44\nВременно не работает     11                20                       35\nНа домохозяйстве         43                35                        6\nНа пенсии                22                 6                        8\nУчёба                     1                 4                       22",
      "text/html": "<div>\n<style scoped>\n    .dataframe tbody tr th:only-of-type {\n        vertical-align: middle;\n    }\n\n    .dataframe tbody tr th {\n        vertical-align: top;\n    }\n\n    .dataframe thead th {\n        text-align: right;\n    }\n</style>\n<table border=\"1\" class=\"dataframe\">\n  <thead>\n    <tr style=\"text-align: right;\">\n      <th></th>\n      <th>Женат</th>\n      <th>Гражданский брак</th>\n      <th>Не состоит в отношениях</th>\n    </tr>\n  </thead>\n  <tbody>\n    <tr>\n      <th>Полный рабочий день</th>\n      <td>89</td>\n      <td>80</td>\n      <td>35</td>\n    </tr>\n    <tr>\n      <th>Частичная занятость</th>\n      <td>17</td>\n      <td>22</td>\n      <td>44</td>\n    </tr>\n    <tr>\n      <th>Временно не работает</th>\n      <td>11</td>\n      <td>20</td>\n      <td>35</td>\n    </tr>\n    <tr>\n      <th>На домохозяйстве</th>\n      <td>43</td>\n      <td>35</td>\n      <td>6</td>\n    </tr>\n    <tr>\n      <th>На пенсии</th>\n      <td>22</td>\n      <td>6</td>\n      <td>8</td>\n    </tr>\n    <tr>\n      <th>Учёба</th>\n      <td>1</td>\n      <td>4</td>\n      <td>22</td>\n    </tr>\n  </tbody>\n</table>\n</div>"
     },
     "execution_count": 126,
     "metadata": {},
     "output_type": "execute_result"
    }
   ],
   "source": [
    "data = pd.DataFrame(\n",
    "    data={\n",
    "        'Женат': [89, 17, 11, 43, 22, 1],\n",
    "        'Гражданский брак': [80, 22, 20, 35, 6, 4],\n",
    "        'Не состоит в отношениях': [35, 44, 35, 6, 8, 22]\n",
    "    },\n",
    "    index=[\n",
    "        'Полный рабочий день', 'Частичная занятость', 'Временно не работает',\n",
    "        'На домохозяйстве', 'На пенсии', 'Учёба'\n",
    "    ],\n",
    ")\n",
    "\n",
    "data"
   ],
   "metadata": {
    "collapsed": false
   }
  },
  {
   "cell_type": "code",
   "execution_count": 137,
   "outputs": [
    {
     "name": "stdout",
     "output_type": "stream",
     "text": [
      "Нулевая гипотеза — категориальные переменные независимы.\n",
      "Альтернативная гипотеза — категориальные переменные связаны между собой.\n",
      "\n",
      "Результаты проверки зависимости переменных с помощью критерия Хи-квадрат: \n",
      "  - (122.29654948595365, 1.7291616900960234e-21, 10)\n",
      "\n",
      "Поскольку pvalue=1.7291616900960234e-21 меньше 0.05, то нулевая гипотеза отвергается, принимается `альтернативная` гипотеза.\n"
     ]
    }
   ],
   "source": [
    "chi2_contingency = sts.chi2_contingency(data)[:3]\n",
    "chk = chi2_contingency[1] < 0.05\n",
    "\n",
    "print(\n",
    "    'Нулевая гипотеза — категориальные переменные независимы.',\n",
    "    'Альтернативная гипотеза — категориальные переменные связаны между собой.\\n',\n",
    "    f'Результаты проверки зависимости переменных с помощью критерия Хи-квадрат: ',\n",
    "    f'  - {chi2_contingency}\\n',\n",
    "    f'Поскольку pvalue={chi2_contingency[1]} {\"меньше\" if chk else \"больше\"} 0.05, то '\n",
    "    f'нулевая гипотеза {\"отвергается, принимается `альтернативная` гипотеза\" if chk else \"НЕ отвергается\"}.',\n",
    "sep='\\n')\n"
   ],
   "metadata": {
    "collapsed": false
   }
  }
 ],
 "metadata": {
  "kernelspec": {
   "display_name": "Python 3",
   "language": "python",
   "name": "python3"
  },
  "language_info": {
   "codemirror_mode": {
    "name": "ipython",
    "version": 2
   },
   "file_extension": ".py",
   "mimetype": "text/x-python",
   "name": "python",
   "nbconvert_exporter": "python",
   "pygments_lexer": "ipython2",
   "version": "2.7.6"
  }
 },
 "nbformat": 4,
 "nbformat_minor": 0
}
